{
 "cells": [
  {
   "cell_type": "code",
   "execution_count": 1,
   "metadata": {},
   "outputs": [],
   "source": [
    "import matplotlib.pyplot as plt\n",
    "import numpy as np\n",
    "import pandas as pd\n",
    "import re\n",
    "import sqlite3\n",
    "import seaborn as sns\n",
    "import json\n",
    "from sklearn import datasets, linear_model\n",
    "from sklearn.metrics import mean_squared_error, r2_score"
   ]
  },
  {
   "cell_type": "code",
   "execution_count": 2,
   "metadata": {},
   "outputs": [],
   "source": [
    "sns.set(style='white', palette=\"Set2\", color_codes=False)\n",
    "sns.set_style(\"ticks\")\n",
    "\n",
    "%matplotlib inline"
   ]
  },
  {
   "cell_type": "code",
   "execution_count": 3,
   "metadata": {},
   "outputs": [],
   "source": [
    "db = sqlite3.connect('monitoring.db')\n",
    "df = pd.read_sql_query('select task_label, task_elapsed_time from task where task_fail_count < 4', db)"
   ]
  },
  {
   "cell_type": "code",
   "execution_count": 4,
   "metadata": {},
   "outputs": [],
   "source": [
    "df = df.dropna()"
   ]
  },
  {
   "cell_type": "code",
   "execution_count": 5,
   "metadata": {},
   "outputs": [],
   "source": [
    "df['caller'] = df['task_label'].str[37:].str.strip()"
   ]
  },
  {
   "cell_type": "code",
   "execution_count": 6,
   "metadata": {},
   "outputs": [],
   "source": [
    "df['patient'] = df['task_label'].str[:36].str.strip()"
   ]
  },
  {
   "cell_type": "code",
   "execution_count": 7,
   "metadata": {},
   "outputs": [],
   "source": [
    "with open('sizes.json') as f:\n",
    "    sizes = json.load(f)"
   ]
  },
  {
   "cell_type": "code",
   "execution_count": 8,
   "metadata": {},
   "outputs": [],
   "source": [
    "df['size_KB'] = df['patient']\n",
    "df['time_min'] = df['task_elapsed_time'] / 60."
   ]
  },
  {
   "cell_type": "code",
   "execution_count": 9,
   "metadata": {},
   "outputs": [
    {
     "name": "stderr",
     "output_type": "stream",
     "text": [
      "C:\\Users\\Gh0stGl1tch\\Anaconda3\\lib\\site-packages\\ipykernel_launcher.py:2: SettingWithCopyWarning: \n",
      "A value is trying to be set on a copy of a slice from a DataFrame\n",
      "\n",
      "See the caveats in the documentation: http://pandas.pydata.org/pandas-docs/stable/indexing.html#indexing-view-versus-copy\n",
      "  \n"
     ]
    }
   ],
   "source": [
    "for patient in sizes:\n",
    "    df['size_KB'][df['patient'] == patient] = int(sizes[patient]['normal'] + sizes[patient]['tumor'])\n",
    "    #df['size_KB'][df['patient'] == patient] = int(sizes[patient]['tumor'])"
   ]
  },
  {
   "cell_type": "code",
   "execution_count": 10,
   "metadata": {},
   "outputs": [],
   "source": [
    "df['size_GB'] = df['size_KB'] / 1e9"
   ]
  },
  {
   "cell_type": "code",
   "execution_count": 11,
   "metadata": {},
   "outputs": [
    {
     "data": {
      "text/html": [
       "<div>\n",
       "<style scoped>\n",
       "    .dataframe tbody tr th:only-of-type {\n",
       "        vertical-align: middle;\n",
       "    }\n",
       "\n",
       "    .dataframe tbody tr th {\n",
       "        vertical-align: top;\n",
       "    }\n",
       "\n",
       "    .dataframe thead th {\n",
       "        text-align: right;\n",
       "    }\n",
       "</style>\n",
       "<table border=\"1\" class=\"dataframe\">\n",
       "  <thead>\n",
       "    <tr style=\"text-align: right;\">\n",
       "      <th></th>\n",
       "      <th>task_label</th>\n",
       "      <th>task_elapsed_time</th>\n",
       "      <th>caller</th>\n",
       "      <th>patient</th>\n",
       "      <th>size_KB</th>\n",
       "      <th>time_min</th>\n",
       "      <th>size_GB</th>\n",
       "    </tr>\n",
       "  </thead>\n",
       "  <tbody>\n",
       "    <tr>\n",
       "      <th>0</th>\n",
       "      <td>0246823f-99f4-4a46-b2b1-27f81179584c-somaticsn...</td>\n",
       "      <td>2044.842830</td>\n",
       "      <td>somaticsniper</td>\n",
       "      <td>0246823f-99f4-4a46-b2b1-27f81179584c</td>\n",
       "      <td>38256217025</td>\n",
       "      <td>34.080714</td>\n",
       "      <td>38.2562</td>\n",
       "    </tr>\n",
       "    <tr>\n",
       "      <th>1</th>\n",
       "      <td>0246823f-99f4-4a46-b2b1-27f81179584c-muse</td>\n",
       "      <td>13864.270862</td>\n",
       "      <td>muse</td>\n",
       "      <td>0246823f-99f4-4a46-b2b1-27f81179584c</td>\n",
       "      <td>38256217025</td>\n",
       "      <td>231.071181</td>\n",
       "      <td>38.2562</td>\n",
       "    </tr>\n",
       "    <tr>\n",
       "      <th>3</th>\n",
       "      <td>05ce16d4-a999-491a-91ad-9449a57228ff-somaticsn...</td>\n",
       "      <td>1410.314701</td>\n",
       "      <td>somaticsniper</td>\n",
       "      <td>05ce16d4-a999-491a-91ad-9449a57228ff</td>\n",
       "      <td>26198662670</td>\n",
       "      <td>23.505245</td>\n",
       "      <td>26.1987</td>\n",
       "    </tr>\n",
       "    <tr>\n",
       "      <th>4</th>\n",
       "      <td>05ce16d4-a999-491a-91ad-9449a57228ff-muse</td>\n",
       "      <td>9316.071671</td>\n",
       "      <td>muse</td>\n",
       "      <td>05ce16d4-a999-491a-91ad-9449a57228ff</td>\n",
       "      <td>26198662670</td>\n",
       "      <td>155.267861</td>\n",
       "      <td>26.1987</td>\n",
       "    </tr>\n",
       "    <tr>\n",
       "      <th>6</th>\n",
       "      <td>117eb38b-0c62-4336-a866-fa5bd013256a-somaticsn...</td>\n",
       "      <td>3620.798409</td>\n",
       "      <td>somaticsniper</td>\n",
       "      <td>117eb38b-0c62-4336-a866-fa5bd013256a</td>\n",
       "      <td>55114172715</td>\n",
       "      <td>60.346640</td>\n",
       "      <td>55.1142</td>\n",
       "    </tr>\n",
       "  </tbody>\n",
       "</table>\n",
       "</div>"
      ],
      "text/plain": [
       "                                          task_label  task_elapsed_time  \\\n",
       "0  0246823f-99f4-4a46-b2b1-27f81179584c-somaticsn...        2044.842830   \n",
       "1          0246823f-99f4-4a46-b2b1-27f81179584c-muse       13864.270862   \n",
       "3  05ce16d4-a999-491a-91ad-9449a57228ff-somaticsn...        1410.314701   \n",
       "4          05ce16d4-a999-491a-91ad-9449a57228ff-muse        9316.071671   \n",
       "6  117eb38b-0c62-4336-a866-fa5bd013256a-somaticsn...        3620.798409   \n",
       "\n",
       "          caller                               patient      size_KB  \\\n",
       "0  somaticsniper  0246823f-99f4-4a46-b2b1-27f81179584c  38256217025   \n",
       "1           muse  0246823f-99f4-4a46-b2b1-27f81179584c  38256217025   \n",
       "3  somaticsniper  05ce16d4-a999-491a-91ad-9449a57228ff  26198662670   \n",
       "4           muse  05ce16d4-a999-491a-91ad-9449a57228ff  26198662670   \n",
       "6  somaticsniper  117eb38b-0c62-4336-a866-fa5bd013256a  55114172715   \n",
       "\n",
       "     time_min  size_GB  \n",
       "0   34.080714  38.2562  \n",
       "1  231.071181  38.2562  \n",
       "3   23.505245  26.1987  \n",
       "4  155.267861  26.1987  \n",
       "6   60.346640  55.1142  "
      ]
     },
     "execution_count": 11,
     "metadata": {},
     "output_type": "execute_result"
    }
   ],
   "source": [
    "df.head()"
   ]
  },
  {
   "cell_type": "code",
   "execution_count": 12,
   "metadata": {},
   "outputs": [
    {
     "data": {
      "image/png": "[encoded data removed]",
      "text/plain": [
       "<Figure size 432x288 with 1 Axes>"
      ]
     },
     "metadata": {
      "needs_background": "light"
     },
     "output_type": "display_data"
    },
    {
     "data": {
      "image/png": "[encoded data removed]",
      "text/plain": [
       "<Figure size 432x288 with 1 Axes>"
      ]
     },
     "metadata": {
      "needs_background": "light"
     },
     "output_type": "display_data"
    },
    {
     "data": {
      "image/png": "[encoded data removed]",
      "text/plain": [
       "<Figure size 432x288 with 1 Axes>"
      ]
     },
     "metadata": {
      "needs_background": "light"
     },
     "output_type": "display_data"
    },
    {
     "data": {
      "image/png": "[encoded data removed]",
      "text/plain": [
       "<Figure size 432x288 with 1 Axes>"
      ]
     },
     "metadata": {
      "needs_background": "light"
     },
     "output_type": "display_data"
    }
   ],
   "source": [
    "for caller in df.caller.unique():\n",
    "    # print(df[df['caller'] == caller][['size_GB', 'time_min']])\n",
    "    df[df['caller'] == caller].plot('size_GB', 'time_min', marker='o', linestyle='none', label=caller)"
   ]
  },
  {
   "cell_type": "code",
   "execution_count": 13,
   "metadata": {},
   "outputs": [
    {
     "data": {
      "text/plain": [
       "51"
      ]
     },
     "execution_count": 13,
     "metadata": {},
     "output_type": "execute_result"
    }
   ],
   "source": [
    "len(df[df['caller'] == 'muse'])"
   ]
  },
  {
   "cell_type": "code",
   "execution_count": 36,
   "metadata": {
    "scrolled": true
   },
   "outputs": [
    {
     "name": "stdout",
     "output_type": "stream",
     "text": [
      "[ 0.59709659 34.37172798]\n"
     ]
    },
    {
     "data": {
      "text/plain": [
       "<Figure size 432x288 with 0 Axes>"
      ]
     },
     "metadata": {},
     "output_type": "display_data"
    },
    {
     "name": "stdout",
     "output_type": "stream",
     "text": [
      "[ 3.68667135 49.88193294]\n"
     ]
    },
    {
     "data": {
      "text/plain": [
       "<Figure size 432x288 with 0 Axes>"
      ]
     },
     "metadata": {},
     "output_type": "display_data"
    },
    {
     "name": "stdout",
     "output_type": "stream",
     "text": [
      "[26.0290123  48.77756772]\n"
     ]
    },
    {
     "data": {
      "text/plain": [
       "<Figure size 432x288 with 0 Axes>"
      ]
     },
     "metadata": {},
     "output_type": "display_data"
    },
    {
     "name": "stdout",
     "output_type": "stream",
     "text": [
      "[ 0.61099238 37.85508276]\n"
     ]
    },
    {
     "data": {
      "text/plain": [
       "<Figure size 432x288 with 0 Axes>"
      ]
     },
     "metadata": {},
     "output_type": "display_data"
    }
   ],
   "source": [
    "for caller in df.caller.unique():\n",
    "    classic_kwargs = {'s': 20, 'edgecolors': 'k', 'c': 'b'}\n",
    "    tempdf = df[df['caller']==caller]\n",
    "    l = np.polyfit(np.array(tempdf['size_GB']).astype('float32'), np.array(tempdf['time_min']).astype('float32'), 1)\n",
    "    print(l)\n",
    "    x=np.linspace(min(tempdf['size_GB']), max(tempdf['size_GB']),100)\n",
    "    a=plt.figure()\n",
    "    plt.plot(x, (x*l[0]+l[1]),c='k')\n",
    "    plt.title (caller)\n",
    "    plt.xlabel ('size [GB]')\n",
    "    plt.ylabel ('time [minutes]')\n",
    "    plt.scatter(tempdf['size_GB'], tempdf['time_min'], c='k')\n",
    "    a.savefig('variant'+caller+'.pdf', bbox_inches='tight', format = 'pdf')\n",
    "    plt.clf()\n",
    "    plt.show()"
   ]
  },
  {
   "cell_type": "code",
   "execution_count": null,
   "metadata": {},
   "outputs": [],
   "source": []
  },
  {
   "cell_type": "code",
   "execution_count": null,
   "metadata": {},
   "outputs": [],
   "source": []
  },
  {
   "cell_type": "code",
   "execution_count": null,
   "metadata": {},
   "outputs": [],
   "source": []
  }
 ],
 "metadata": {
  "kernelspec": {
   "display_name": "Python 3",
   "language": "python",
   "name": "python3"
  },
  "language_info": {
   "codemirror_mode": {
    "name": "ipython",
    "version": 3
   },
   "file_extension": ".py",
   "mimetype": "text/x-python",
   "name": "python",
   "nbconvert_exporter": "python",
   "pygments_lexer": "ipython3",
   "version": "3.7.3"
  }
 },
 "nbformat": 4,
 "nbformat_minor": 2
}
