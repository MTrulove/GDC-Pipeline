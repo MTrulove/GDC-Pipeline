{
 "cells": [
  {
   "cell_type": "code",
   "execution_count": 1,
   "metadata": {},
   "outputs": [],
   "source": [
    "import matplotlib.pyplot as plt\n",
    "import numpy as np\n",
    "import pandas as pd\n",
    "import re\n",
    "import sqlite3\n",
    "import seaborn as sns\n",
    "import json"
   ]
  },
  {
   "cell_type": "code",
   "execution_count": 2,
   "metadata": {},
   "outputs": [],
   "source": [
    "sns.set(style='white', palette=\"Set2\", color_codes=False)\n",
    "sns.set_style(\"ticks\")\n",
    "\n",
    "%matplotlib inline"
   ]
  },
  {
   "cell_type": "code",
   "execution_count": 3,
   "metadata": {},
   "outputs": [],
   "source": [
    "db = sqlite3.connect('monitoring.db')\n",
    "df = pd.read_sql_query('select task_label, task_elapsed_time from task', db)"
   ]
  },
  {
   "cell_type": "code",
   "execution_count": 4,
   "metadata": {},
   "outputs": [],
   "source": [
    "df = df.dropna()"
   ]
  },
  {
   "cell_type": "code",
   "execution_count": 5,
   "metadata": {},
   "outputs": [],
   "source": [
    "df['caller'] = df['task_label'].str[37:].str.strip()"
   ]
  },
  {
   "cell_type": "code",
   "execution_count": 6,
   "metadata": {},
   "outputs": [],
   "source": [
    "df['patient'] = df['task_label'].str[:36].str.strip()"
   ]
  },
  {
   "cell_type": "code",
   "execution_count": 7,
   "metadata": {},
   "outputs": [],
   "source": [
    "with open('sizes.json') as f:\n",
    "    sizes = json.load(f)"
   ]
  },
  {
   "cell_type": "code",
   "execution_count": 8,
   "metadata": {},
   "outputs": [],
   "source": [
    "df['size_KB'] = df['patient']\n",
    "df['time_min'] = df['task_elapsed_time'] / 60."
   ]
  },
  {
   "cell_type": "code",
   "execution_count": 9,
   "metadata": {},
   "outputs": [
    {
     "name": "stderr",
     "output_type": "stream",
     "text": [
      "/Users/awoodard/software/miniconda3/envs/parsl/lib/python3.7/site-packages/ipykernel_launcher.py:2: SettingWithCopyWarning: \n",
      "A value is trying to be set on a copy of a slice from a DataFrame\n",
      "\n",
      "See the caveats in the documentation: http://pandas.pydata.org/pandas-docs/stable/indexing.html#indexing-view-versus-copy\n",
      "  \n"
     ]
    }
   ],
   "source": [
    "for patient in sizes:\n",
    "    df['size_KB'][df['patient'] == patient] = int(sizes[patient]['normal'] + sizes[patient]['tumor'])\n",
    "    #df['size_KB'][df['patient'] == patient] = int(sizes[patient]['tumor'])"
   ]
  },
  {
   "cell_type": "code",
   "execution_count": 10,
   "metadata": {},
   "outputs": [],
   "source": [
    "df['size_GB'] = df['size_KB'] / 1e9"
   ]
  },
  {
   "cell_type": "code",
   "execution_count": 11,
   "metadata": {},
   "outputs": [
    {
     "data": {
      "text/html": [
       "<div>\n",
       "<style scoped>\n",
       "    .dataframe tbody tr th:only-of-type {\n",
       "        vertical-align: middle;\n",
       "    }\n",
       "\n",
       "    .dataframe tbody tr th {\n",
       "        vertical-align: top;\n",
       "    }\n",
       "\n",
       "    .dataframe thead th {\n",
       "        text-align: right;\n",
       "    }\n",
       "</style>\n",
       "<table border=\"1\" class=\"dataframe\">\n",
       "  <thead>\n",
       "    <tr style=\"text-align: right;\">\n",
       "      <th></th>\n",
       "      <th>task_label</th>\n",
       "      <th>task_elapsed_time</th>\n",
       "      <th>caller</th>\n",
       "      <th>patient</th>\n",
       "      <th>size_KB</th>\n",
       "      <th>time_min</th>\n",
       "      <th>size_GB</th>\n",
       "    </tr>\n",
       "  </thead>\n",
       "  <tbody>\n",
       "    <tr>\n",
       "      <th>0</th>\n",
       "      <td>0246823f-99f4-4a46-b2b1-27f81179584c-somaticsn...</td>\n",
       "      <td>1682.901423</td>\n",
       "      <td>somaticsniper</td>\n",
       "      <td>0246823f-99f4-4a46-b2b1-27f81179584c</td>\n",
       "      <td>38256217025</td>\n",
       "      <td>28.048357</td>\n",
       "      <td>38.2562</td>\n",
       "    </tr>\n",
       "    <tr>\n",
       "      <th>1</th>\n",
       "      <td>0246823f-99f4-4a46-b2b1-27f81179584c-muse</td>\n",
       "      <td>12551.461873</td>\n",
       "      <td>muse</td>\n",
       "      <td>0246823f-99f4-4a46-b2b1-27f81179584c</td>\n",
       "      <td>38256217025</td>\n",
       "      <td>209.191031</td>\n",
       "      <td>38.2562</td>\n",
       "    </tr>\n",
       "    <tr>\n",
       "      <th>2</th>\n",
       "      <td>0246823f-99f4-4a46-b2b1-27f81179584c-varscan</td>\n",
       "      <td>1536.712190</td>\n",
       "      <td>varscan</td>\n",
       "      <td>0246823f-99f4-4a46-b2b1-27f81179584c</td>\n",
       "      <td>38256217025</td>\n",
       "      <td>25.611870</td>\n",
       "      <td>38.2562</td>\n",
       "    </tr>\n",
       "    <tr>\n",
       "      <th>3</th>\n",
       "      <td>05ce16d4-a999-491a-91ad-9449a57228ff-somaticsn...</td>\n",
       "      <td>1003.157510</td>\n",
       "      <td>somaticsniper</td>\n",
       "      <td>05ce16d4-a999-491a-91ad-9449a57228ff</td>\n",
       "      <td>26198662670</td>\n",
       "      <td>16.719292</td>\n",
       "      <td>26.1987</td>\n",
       "    </tr>\n",
       "    <tr>\n",
       "      <th>4</th>\n",
       "      <td>05ce16d4-a999-491a-91ad-9449a57228ff-muse</td>\n",
       "      <td>8595.077900</td>\n",
       "      <td>muse</td>\n",
       "      <td>05ce16d4-a999-491a-91ad-9449a57228ff</td>\n",
       "      <td>26198662670</td>\n",
       "      <td>143.251298</td>\n",
       "      <td>26.1987</td>\n",
       "    </tr>\n",
       "  </tbody>\n",
       "</table>\n",
       "</div>"
      ],
      "text/plain": [
       "                                          task_label  task_elapsed_time  \\\n",
       "0  0246823f-99f4-4a46-b2b1-27f81179584c-somaticsn...        1682.901423   \n",
       "1          0246823f-99f4-4a46-b2b1-27f81179584c-muse       12551.461873   \n",
       "2       0246823f-99f4-4a46-b2b1-27f81179584c-varscan        1536.712190   \n",
       "3  05ce16d4-a999-491a-91ad-9449a57228ff-somaticsn...        1003.157510   \n",
       "4          05ce16d4-a999-491a-91ad-9449a57228ff-muse        8595.077900   \n",
       "\n",
       "          caller                               patient      size_KB  \\\n",
       "0  somaticsniper  0246823f-99f4-4a46-b2b1-27f81179584c  38256217025   \n",
       "1           muse  0246823f-99f4-4a46-b2b1-27f81179584c  38256217025   \n",
       "2        varscan  0246823f-99f4-4a46-b2b1-27f81179584c  38256217025   \n",
       "3  somaticsniper  05ce16d4-a999-491a-91ad-9449a57228ff  26198662670   \n",
       "4           muse  05ce16d4-a999-491a-91ad-9449a57228ff  26198662670   \n",
       "\n",
       "     time_min  size_GB  \n",
       "0   28.048357  38.2562  \n",
       "1  209.191031  38.2562  \n",
       "2   25.611870  38.2562  \n",
       "3   16.719292  26.1987  \n",
       "4  143.251298  26.1987  "
      ]
     },
     "execution_count": 11,
     "metadata": {},
     "output_type": "execute_result"
    }
   ],
   "source": [
    "df.head()"
   ]
  },
  {
   "cell_type": "code",
   "execution_count": 14,
   "metadata": {},
   "outputs": [
    {
     "data": {
      "image/png": "[encoded data removed]",
      "text/plain": [
       "<Figure size 432x288 with 1 Axes>"
      ]
     },
     "metadata": {
      "needs_background": "light"
     },
     "output_type": "display_data"
    },
    {
     "data": {
      "image/png": "[encoded data removed]",
      "text/plain": [
       "<Figure size 432x288 with 1 Axes>"
      ]
     },
     "metadata": {
      "needs_background": "light"
     },
     "output_type": "display_data"
    },
    {
     "data": {
      "image/png": "[encoded data removed]",
      "text/plain": [
       "<Figure size 432x288 with 1 Axes>"
      ]
     },
     "metadata": {
      "needs_background": "light"
     },
     "output_type": "display_data"
    }
   ],
   "source": [
    "for caller in df.caller.unique():\n",
    "    # print(df[df['caller'] == caller][['size_GB', 'time_min']])\n",
    "    df[df['caller'] == caller].plot('size_GB', 'time_min', marker='o', linestyle='none', label=caller)"
   ]
  },
  {
   "cell_type": "code",
   "execution_count": 13,
   "metadata": {},
   "outputs": [
    {
     "data": {
      "text/plain": [
       "50"
      ]
     },
     "execution_count": 13,
     "metadata": {},
     "output_type": "execute_result"
    }
   ],
   "source": [
    "len(df[df['caller'] == 'muse'])"
   ]
  },
  {
   "cell_type": "code",
   "execution_count": null,
   "metadata": {},
   "outputs": [],
   "source": []
  }
 ],
 "metadata": {
  "kernelspec": {
   "display_name": "Python 3",
   "language": "python",
   "name": "python3"
  },
  "language_info": {
   "codemirror_mode": {
    "name": "ipython",
    "version": 3
   },
   "file_extension": ".py",
   "mimetype": "text/x-python",
   "name": "python",
   "nbconvert_exporter": "python",
   "pygments_lexer": "ipython3",
   "version": "3.7.0"
  }
 },
 "nbformat": 4,
 "nbformat_minor": 2
}
